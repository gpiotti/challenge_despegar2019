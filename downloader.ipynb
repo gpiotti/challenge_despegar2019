{
 "cells": [
  {
   "cell_type": "code",
   "execution_count": 1,
   "metadata": {},
   "outputs": [
    {
     "name": "stderr",
     "output_type": "stream",
     "text": [
      "C:\\Users\\kingsun\\Anaconda3\\envs\\fastai\\lib\\site-packages\\requests\\__init__.py:91: RequestsDependencyWarning: urllib3 (1.25.3) or chardet (3.0.4) doesn't match a supported version!\n",
      "  RequestsDependencyWarning)\n"
     ]
    }
   ],
   "source": [
    "from fastai.vision import *\n",
    "from PIL import Image\n",
    "import os\n",
    "import pandas as pd\n",
    "from tqdm import tqdm\n",
    "import random\n",
    "\n",
    "from fastai.widgets import download_google_images\n"
   ]
  },
  {
   "cell_type": "code",
   "execution_count": 2,
   "metadata": {},
   "outputs": [],
   "source": [
    "from selenium import webdriver\n",
    "from selenium.webdriver.chrome.options import Options\n",
    "\n",
    "options = Options()\n",
    "\n",
    "# options = webdriver.ChromeOptions()\n",
    "options.add_argument(\"--headless\")\n",
    "\n",
    "try: driver = webdriver.Chrome(executable_path=r\"C:\\chromedriver\\chromedriver.exe\", options=options)\n",
    "except Exception as e:\n",
    "    print(e)"
   ]
  },
  {
   "cell_type": "code",
   "execution_count": 6,
   "metadata": {},
   "outputs": [],
   "source": [
    "base_dir = os.getcwd()\n",
    "data_dir = os.path.join(os.getcwd(), \"data\")\n",
    "resized_dir = os.path.join(data_dir, \"resized\")\n",
    "raw_dir = os.path.join(os.getcwd(), \"data\", \"raw\")\n",
    "train_dir = os.path.join(os.getcwd(), \"data\", \"train\")\n",
    "test_dir = os.path.join(os.getcwd(), \"data\", \"test_\")\n",
    "downloader_base_dir = os.path.join(base_dir,  \"data\", \"image_downloader\")\n"
   ]
  },
  {
   "cell_type": "code",
   "execution_count": 4,
   "metadata": {},
   "outputs": [],
   "source": [
    "tags = ['hotel bar','hotel bathroom','hotel bedroom','hotel breakfast','city view',\n",
    "'hotel dinning','hotel front view','hotel exterior view','hotel interior view -bedroom',\n",
    "'motel kitchen','motel  living room','hotel lobby','natural view','motel swimming pool',\n",
    "'hotel recreation','hotel golf', 'hotel gym']"
   ]
  },
  {
   "cell_type": "code",
   "execution_count": 7,
   "metadata": {},
   "outputs": [],
   "source": [
    "path = data_dir + '\\\\image_downloader'"
   ]
  },
  {
   "cell_type": "code",
   "execution_count": 10,
   "metadata": {},
   "outputs": [],
   "source": [
    "for tag in tags:\n",
    "    n_img = 200\n",
    "    if tag == 'hotel recreation' or tag == 'hotel golf' or tag =='hotel gym':\n",
    "        n_img = 150\n",
    "    try:\n",
    "        download_google_images(path, tag, size='>640*480', n_images=n_img, max_workers=5)\n",
    "    except:\n",
    "        continue\n",
    "\n"
   ]
  },
  {
   "cell_type": "code",
   "execution_count": 17,
   "metadata": {},
   "outputs": [
    {
     "data": {
      "text/plain": [
       "[WindowsPath('C:/Users/kingsun/workspace/despegar2019/data/image_downloader/golf/00000000.jpg'),\n",
       " WindowsPath('C:/Users/kingsun/workspace/despegar2019/data/image_downloader/golf/00000001.jpg'),\n",
       " WindowsPath('C:/Users/kingsun/workspace/despegar2019/data/image_downloader/golf/00000002.jpg'),\n",
       " WindowsPath('C:/Users/kingsun/workspace/despegar2019/data/image_downloader/golf/00000003.jpg'),\n",
       " WindowsPath('C:/Users/kingsun/workspace/despegar2019/data/image_downloader/golf/00000004.jpg'),\n",
       " WindowsPath('C:/Users/kingsun/workspace/despegar2019/data/image_downloader/golf/00000005.jpg'),\n",
       " WindowsPath('C:/Users/kingsun/workspace/despegar2019/data/image_downloader/golf/00000006.jpg'),\n",
       " WindowsPath('C:/Users/kingsun/workspace/despegar2019/data/image_downloader/golf/00000007.jpg'),\n",
       " WindowsPath('C:/Users/kingsun/workspace/despegar2019/data/image_downloader/golf/00000008.jpg'),\n",
       " WindowsPath('C:/Users/kingsun/workspace/despegar2019/data/image_downloader/golf/00000009.jpg'),\n",
       " WindowsPath('C:/Users/kingsun/workspace/despegar2019/data/image_downloader/golf/00000010.jpg'),\n",
       " WindowsPath('C:/Users/kingsun/workspace/despegar2019/data/image_downloader/golf/00000011.jpg'),\n",
       " WindowsPath('C:/Users/kingsun/workspace/despegar2019/data/image_downloader/golf/00000012.jpg'),\n",
       " WindowsPath('C:/Users/kingsun/workspace/despegar2019/data/image_downloader/golf/00000013.jpg'),\n",
       " WindowsPath('C:/Users/kingsun/workspace/despegar2019/data/image_downloader/golf/00000014.jpg'),\n",
       " WindowsPath('C:/Users/kingsun/workspace/despegar2019/data/image_downloader/golf/00000015.jpg'),\n",
       " WindowsPath('C:/Users/kingsun/workspace/despegar2019/data/image_downloader/golf/00000016.jpg'),\n",
       " WindowsPath('C:/Users/kingsun/workspace/despegar2019/data/image_downloader/golf/00000017.jpg'),\n",
       " WindowsPath('C:/Users/kingsun/workspace/despegar2019/data/image_downloader/golf/00000018.jpg'),\n",
       " WindowsPath('C:/Users/kingsun/workspace/despegar2019/data/image_downloader/golf/00000019.jpg'),\n",
       " WindowsPath('C:/Users/kingsun/workspace/despegar2019/data/image_downloader/golf/00000020.jpg'),\n",
       " WindowsPath('C:/Users/kingsun/workspace/despegar2019/data/image_downloader/golf/00000021.jpg'),\n",
       " WindowsPath('C:/Users/kingsun/workspace/despegar2019/data/image_downloader/golf/00000022.jpg'),\n",
       " WindowsPath('C:/Users/kingsun/workspace/despegar2019/data/image_downloader/golf/00000023.jpg'),\n",
       " WindowsPath('C:/Users/kingsun/workspace/despegar2019/data/image_downloader/golf/00000024.jpg'),\n",
       " WindowsPath('C:/Users/kingsun/workspace/despegar2019/data/image_downloader/golf/00000025.jpg'),\n",
       " WindowsPath('C:/Users/kingsun/workspace/despegar2019/data/image_downloader/golf/00000026.jpg'),\n",
       " WindowsPath('C:/Users/kingsun/workspace/despegar2019/data/image_downloader/golf/00000027.jpg'),\n",
       " WindowsPath('C:/Users/kingsun/workspace/despegar2019/data/image_downloader/golf/00000028.jpg'),\n",
       " WindowsPath('C:/Users/kingsun/workspace/despegar2019/data/image_downloader/golf/00000029.jpg'),\n",
       " WindowsPath('C:/Users/kingsun/workspace/despegar2019/data/image_downloader/golf/00000030.jpg'),\n",
       " WindowsPath('C:/Users/kingsun/workspace/despegar2019/data/image_downloader/golf/00000031.jpg'),\n",
       " WindowsPath('C:/Users/kingsun/workspace/despegar2019/data/image_downloader/golf/00000032.jpg'),\n",
       " WindowsPath('C:/Users/kingsun/workspace/despegar2019/data/image_downloader/golf/00000033.jpg'),\n",
       " WindowsPath('C:/Users/kingsun/workspace/despegar2019/data/image_downloader/golf/00000034.jpg'),\n",
       " WindowsPath('C:/Users/kingsun/workspace/despegar2019/data/image_downloader/golf/00000035.jpg'),\n",
       " WindowsPath('C:/Users/kingsun/workspace/despegar2019/data/image_downloader/golf/00000036.jpg'),\n",
       " WindowsPath('C:/Users/kingsun/workspace/despegar2019/data/image_downloader/golf/00000037.jpg'),\n",
       " WindowsPath('C:/Users/kingsun/workspace/despegar2019/data/image_downloader/golf/00000038.jpg'),\n",
       " WindowsPath('C:/Users/kingsun/workspace/despegar2019/data/image_downloader/golf/00000039.jpg'),\n",
       " WindowsPath('C:/Users/kingsun/workspace/despegar2019/data/image_downloader/golf/00000040.jpg'),\n",
       " WindowsPath('C:/Users/kingsun/workspace/despegar2019/data/image_downloader/golf/00000042.jpg'),\n",
       " WindowsPath('C:/Users/kingsun/workspace/despegar2019/data/image_downloader/golf/00000043.jpg'),\n",
       " WindowsPath('C:/Users/kingsun/workspace/despegar2019/data/image_downloader/golf/00000044.jpg'),\n",
       " WindowsPath('C:/Users/kingsun/workspace/despegar2019/data/image_downloader/golf/00000045.jpg'),\n",
       " WindowsPath('C:/Users/kingsun/workspace/despegar2019/data/image_downloader/golf/00000046.jpg'),\n",
       " WindowsPath('C:/Users/kingsun/workspace/despegar2019/data/image_downloader/golf/00000047.jpg'),\n",
       " WindowsPath('C:/Users/kingsun/workspace/despegar2019/data/image_downloader/golf/00000048.jpg'),\n",
       " WindowsPath('C:/Users/kingsun/workspace/despegar2019/data/image_downloader/golf/00000049.jpg')]"
      ]
     },
     "execution_count": 17,
     "metadata": {},
     "output_type": "execute_result"
    }
   ],
   "source": [
    "download_google_images(path, 'golf', size='>640*480', n_images=50, max_workers=5)\n"
   ]
  },
  {
   "cell_type": "code",
   "execution_count": 18,
   "metadata": {},
   "outputs": [
    {
     "name": "stdout",
     "output_type": "stream",
     "text": [
      "00000000.jpg -> 56d9868a65f87af64e6b79a238d01d27839bc3f4\n",
      "00000001.jpg -> dc5ddb12b5dacfdaa74a9e9fe689b34c854f8935\n",
      "00000002.jpg -> 1d4eb2810e6e96b895e4e731c389a63b07e1ca56\n",
      "00000003.jpg -> e0923420e211afd002593e9b26b830795af5dfbb\n",
      "00000004.jpg -> 255acfc223dbafcecbb2385179610a331331ba66\n",
      "00000005.jpg -> 5257468e428043f9cdd1f6d3ee14db41e5a47d4b\n",
      "00000006.jpg -> 1dffc758abaca64613f9179e02027b50934361d6\n",
      "00000007.jpg -> ddd1856845e225e2ceb33a9446bd2881172ad554\n",
      "00000008.jpg -> bd5821735a311dc0b417b1f98538ef28f56cd24c\n",
      "00000009.jpg -> c75a6396b5d33cc6a2543ef1361c40eb7f673c1b\n",
      "00000010.jpg -> 0fc658250f0a7ca7b9fab034577ae28a55bbfe90\n",
      "00000011.jpg -> b73b227aa18def3a04ad231d56a448e72be17467\n",
      "00000012.jpg -> 6a5d4b73c96a4e623d9eb1fc72626f9314b3d228\n",
      "00000013.jpg -> 94ca04576a76848e13f5a130d416867a503fa340\n",
      "00000014.jpg -> c02129112fd347bdca0f4823348252adb4524c99\n",
      "00000015.jpg -> 438b6cb50b0a2ff26e74b0d6ac73d6e384f425b3\n",
      "00000016.jpg -> 4deb3e2a6d5ad72a342f53f0df5daa9cb3fc966d\n",
      "00000017.jpg -> 422d73a74b1dcb8fe8db9e563559f5bd89e3e660\n",
      "00000018.jpg -> 81791daaad20ab28844373750558eabaa84dc642\n",
      "00000019.jpg -> c0efd8ae8f2a8ba0928aefa62c4739ece6712394\n",
      "00000020.jpg -> 59cb1fe3b6bca6bb83d0b86300360283e208d9da\n",
      "00000021.jpg -> b1ac934d822dd15d9c70bd905fa3e519357096fb\n",
      "00000022.jpg -> 66fad3218471ac09ebf3bbef3820921c10361f70\n",
      "00000023.jpg -> 5e57d74a7ac0e8ed0b76bf9ea3e5c39247c24ec8\n",
      "00000024.jpg -> 2bd76e5b9c90438d68ab4281a88a2e41e9f28bac\n",
      "00000025.jpg -> 22dd98c14e694424dae1913687f5e2f2ac0bf742\n",
      "00000026.jpg -> 993c55bfb201dcf9a1c143921fcb6987bb6f621c\n",
      "00000027.jpg -> dfc48bd1781a0bf0f30861bbbf427f0a9b0cc4d7\n",
      "00000028.jpg -> a60fe47cb428442989302c05dffa7dcef75eacfc\n",
      "00000029.jpg -> 176dd32276d85f48e57e5092a92f4cece77a5f74\n",
      "00000030.jpg -> e0d1cfc73b7ceb0e862237ba59788a4a9d738495\n",
      "00000031.jpg -> 381022d1d656ed273ac668f629643511d1a2e223\n",
      "00000032.jpg -> 4ddf60c00e3419923d0e4e5184e996cb635ba33c\n",
      "00000033.jpg -> e48f1518c70db76ecf2cbe0af2c4dd2b9fbfeee7\n",
      "00000034.jpg -> 852cc1a99328242e8c5423b78b1a9301bb0ad72d\n",
      "00000035.jpg -> 554de649d972223bcfbfb8913d96316952a3d6df\n",
      "00000036.jpg -> e1e5e07f393c96582f793cad0832649438098ea9\n",
      "00000037.jpg -> 6fe272152c58ec013ed8c24a98d4e6c5a651dae0\n",
      "00000038.jpg -> 9afe9bdc44eeb654a7e6a6fe6e8f86285cba6893\n",
      "00000039.jpg -> 335b0d04dbbc10b8af6d6684cc573b9730ad6d52\n",
      "00000040.jpg -> 3f8784eb3f2e2b13b1a006eed62d525db712012a\n",
      "00000042.jpg -> 2cd83ca5b6f90311f3a9013bdc2be1f7779adb0d\n",
      "00000043.jpg -> 47593a3bef378df400655f037936d721bb61e84f\n",
      "00000044.jpg -> 19a5585a1250255b7aedc163c8103732420786e4\n",
      "00000045.jpg -> 38d794baf13eb5d9fb4c1fc9c15b37e5929b7929\n",
      "00000046.jpg -> f5a637923369ad9693df9cc5985c090af25058db\n",
      "00000047.jpg -> 354cd975c9203da782d5ab44a87d2026021e8b96\n",
      "00000048.jpg -> 0d34082ec66057a699945b2fc7d0b40ce83b73fe\n",
      "00000049.jpg -> c6f22044df219aa80401df39977437f04c0b6580\n"
     ]
    }
   ],
   "source": [
    "import os\n",
    "import hashlib\n",
    "directory = 'golf'\n",
    "def sha1_file(fn):\n",
    "    f = open(fn, 'rb')\n",
    "    r = hashlib.sha1(f.read()).hexdigest()\n",
    "    f.close()\n",
    "    return r\n",
    "\n",
    "for fn in os.listdir(downloader_base_dir + '\\\\' + directory):\n",
    "    hexh = sha1_file(downloader_base_dir + '\\\\' + directory + '\\\\' + fn)\n",
    "    print('%s -> %s' % (fn, hexh))\n",
    "    os.rename(downloader_base_dir + '\\\\' + directory + '\\\\' + fn,\\\n",
    "              downloader_base_dir + '\\\\' + directory + '\\\\' + hexh + \".jpg\")"
   ]
  }
 ],
 "metadata": {
  "kernelspec": {
   "display_name": "Python (fastai)",
   "language": "python",
   "name": "fastai"
  },
  "language_info": {
   "codemirror_mode": {
    "name": "ipython",
    "version": 3
   },
   "file_extension": ".py",
   "mimetype": "text/x-python",
   "name": "python",
   "nbconvert_exporter": "python",
   "pygments_lexer": "ipython3",
   "version": "3.6.8"
  }
 },
 "nbformat": 4,
 "nbformat_minor": 2
}
